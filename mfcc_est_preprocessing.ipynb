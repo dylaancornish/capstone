{
 "cells": [
  {
   "cell_type": "code",
   "execution_count": 1,
   "id": "db2fb76c",
   "metadata": {},
   "outputs": [],
   "source": [
    "import numpy as np\n",
    "import os"
   ]
  },
  {
   "cell_type": "code",
   "execution_count": 11,
   "id": "0a6b980a",
   "metadata": {},
   "outputs": [],
   "source": [
    "test_words = ['one', 'two']\n",
    "mfcc_path = 'mfccs_quantized'\n",
    "train_mfcc_path = os.path.join(mfcc_path, 'training')\n",
    "val_mfcc_path = os.path.join(mfcc_path, 'validation')\n",
    "test_mfcc_path = os.path.join(mfcc_path, 'test')\n",
    "\n",
    "n_mfcc = 20\n",
    "ndim = 126"
   ]
  },
  {
   "cell_type": "code",
   "execution_count": 64,
   "id": "94fc5b23",
   "metadata": {},
   "outputs": [],
   "source": [
    "audio_path = os.path.join('..', 'speech_commands_quantized')\n",
    "audio_length = 16000"
   ]
  },
  {
   "cell_type": "code",
   "execution_count": 10,
   "id": "3cc92698",
   "metadata": {},
   "outputs": [
    {
     "name": "stdout",
     "output_type": "stream",
     "text": [
      "Train count 6251\n",
      "Validation count 696\n",
      "Test count 823\n"
     ]
    }
   ],
   "source": [
    "train_count = 0\n",
    "val_count = 0\n",
    "test_count = 0\n",
    "count = 0\n",
    "for i in [train_mfcc_path, val_mfcc_path, test_mfcc_path]:\n",
    "    for j in test_words:\n",
    "        word_path = os.path.join(i, j)\n",
    "        count += len(os.listdir(word_path))\n",
    "    if (i == train_mfcc_path):\n",
    "        train_count = count\n",
    "    elif (i == val_mfcc_path):\n",
    "        val_count = count\n",
    "    else:\n",
    "        test_count = count\n",
    "    count = 0\n",
    "print('Train count', train_count)\n",
    "print('Validation count', val_count)\n",
    "print('Test count', test_count)"
   ]
  },
  {
   "cell_type": "code",
   "execution_count": 13,
   "id": "008011c2",
   "metadata": {},
   "outputs": [],
   "source": [
    "train_mfcc = np.zeros(shape=(train_count, n_mfcc, ndim))\n",
    "val_mfcc = np.zeros(shape=(val_count, n_mfcc, ndim))\n",
    "test_mfcc = np.zeros(shape=(test_count, n_mfcc, ndim))\n",
    "\n",
    "for i in [train_mfcc_path, val_mfcc_path, test_mfcc_path]:\n",
    "    idx = 0\n",
    "    for j in test_words:\n",
    "        word_path = os.path.join(i, j)\n",
    "        for k in os.listdir(word_path):\n",
    "            file = os.path.join(word_path, k)\n",
    "            mfcc = np.load(file)\n",
    "            if (i == train_mfcc_path):\n",
    "                train_mfcc[idx] = mfcc\n",
    "            elif (i == val_mfcc_path):\n",
    "                val_mfcc[idx] = mfcc\n",
    "            elif (i == test_mfcc_path):\n",
    "                test_mfcc[idx] = mfcc\n",
    "            else:\n",
    "                print('Something is wrong', i, j, k)\n",
    "            idx += 1"
   ]
  },
  {
   "cell_type": "code",
   "execution_count": 28,
   "id": "f6c2eb7c",
   "metadata": {},
   "outputs": [],
   "source": [
    "cwd = os.getcwd()\n",
    "np.save(os.path.join(cwd, 'train_mfcc'), train_mfcc)\n",
    "np.save(os.path.join(cwd, 'val_mfcc'), val_mfcc)\n",
    "np.save(os.path.join(cwd, 'test_mfcc'), test_mfcc)"
   ]
  },
  {
   "cell_type": "code",
   "execution_count": 36,
   "id": "dbe0b325",
   "metadata": {},
   "outputs": [
    {
     "data": {
      "text/plain": [
       "['right/a69b9b3e_nohash_0',\n",
       " 'right/439c84f4_nohash_1',\n",
       " 'right/409c962a_nohash_1',\n",
       " 'right/dbaf8fc6_nohash_2',\n",
       " 'right/a6d586b7_nohash_1']"
      ]
     },
     "metadata": {},
     "output_type": "display_data"
    },
    {
     "name": "stdout",
     "output_type": "stream",
     "text": [
      "Number of validation samples: 9981\n"
     ]
    }
   ],
   "source": [
    "#read in list of validation files\n",
    "val_path = os.path.join(audio_path, 'validation_list.txt')\n",
    "val_list = np.loadtxt(val_path, dtype = 'str')\n",
    "val_list = [os.path.splitext(x)[0] for x in val_list]\n",
    "display(val_list[:5])\n",
    "print('Number of validation samples:', len(val_list))"
   ]
  },
  {
   "cell_type": "code",
   "execution_count": 38,
   "id": "e9aefd1f",
   "metadata": {},
   "outputs": [
    {
     "data": {
      "text/plain": [
       "['right/bb05582b_nohash_3',\n",
       " 'right/97f4c236_nohash_2',\n",
       " 'right/f2e59fea_nohash_3',\n",
       " 'right/fdb5155e_nohash_2',\n",
       " 'right/dc75148d_nohash_0']"
      ]
     },
     "metadata": {},
     "output_type": "display_data"
    },
    {
     "name": "stdout",
     "output_type": "stream",
     "text": [
      "Number of testing samples: 11005\n"
     ]
    }
   ],
   "source": [
    "#read in list of test files\n",
    "test_path = os.path.join(audio_path, 'testing_list.txt')\n",
    "test_list = np.loadtxt(test_path, dtype = 'str')\n",
    "test_list = [os.path.splitext(x)[0] for x in test_list]\n",
    "display(test_list[:5])\n",
    "print('Number of testing samples:', len(test_list))"
   ]
  },
  {
   "cell_type": "code",
   "execution_count": 63,
   "id": "f1cc90d6",
   "metadata": {},
   "outputs": [
    {
     "name": "stdout",
     "output_type": "stream",
     "text": [
      "True\n",
      "True\n",
      "True\n"
     ]
    }
   ],
   "source": [
    "train_audio_count = 0\n",
    "val_audio_count = 0\n",
    "test_audio_count = 0\n",
    "\n",
    "for i in test_words:\n",
    "    word_path = os.path.join(audio_path, i)\n",
    "    for j in os.listdir(word_path):\n",
    "        file = os.path.splitext(j)[0]\n",
    "        file = i + '/' + file\n",
    "        if file in test_list:\n",
    "            test_audio_count += 1\n",
    "        elif file in val_list:\n",
    "            val_audio_count += 1\n",
    "        else:\n",
    "            train_audio_count += 1\n",
    "print(train_audio_count == train_count)\n",
    "print(val_audio_count == val_count)\n",
    "print(test_audio_count == test_count)"
   ]
  },
  {
   "cell_type": "code",
   "execution_count": 96,
   "id": "919139b9",
   "metadata": {},
   "outputs": [],
   "source": [
    "train_audio = np.zeros(shape=(train_audio_count, audio_length))\n",
    "val_audio = np.zeros(shape=(val_audio_count, audio_length))\n",
    "test_audio = np.zeros(shape=(test_audio_count, audio_length))\n",
    "\n",
    "val_label = np.empty(shape=(val_audio_count), dtype='<U10')\n",
    "test_label = np.empty(shape=(test_audio_count), dtype='<U10')"
   ]
  },
  {
   "cell_type": "code",
   "execution_count": 97,
   "id": "4b7f1547",
   "metadata": {},
   "outputs": [],
   "source": [
    "train_idx = 0\n",
    "val_idx = 0\n",
    "test_idx = 0\n",
    "for i in test_words:\n",
    "    word_path = os.path.join(audio_path, i)\n",
    "    for j in os.listdir(word_path):\n",
    "        file_path = os.path.join(word_path,j)\n",
    "        y = np.load(file_path)\n",
    "        \n",
    "        if (len(y) < audio_length):\n",
    "            y = np.pad(y, (0, (audio_length - len(y))))\n",
    "        \n",
    "        file = os.path.splitext(j)[0]\n",
    "        file = i + '/' + file\n",
    "        if file in test_list:\n",
    "            test_label[test_idx] = i\n",
    "            test_audio[test_idx] = y\n",
    "            test_idx += 1\n",
    "        elif file in val_list:\n",
    "            val_label[val_idx] = i\n",
    "            val_audio[val_idx] = y\n",
    "            val_idx += 1\n",
    "        else:\n",
    "            train_audio[train_idx] = y\n",
    "            train_idx += 1"
   ]
  },
  {
   "cell_type": "code",
   "execution_count": 98,
   "id": "ed5bea88",
   "metadata": {},
   "outputs": [
    {
     "name": "stdout",
     "output_type": "stream",
     "text": [
      "(6251, 16000)\n",
      "(696, 16000)\n",
      "(823, 16000)\n",
      "\n",
      " (696,)\n",
      "(823,)\n"
     ]
    }
   ],
   "source": [
    "print(train_audio.shape)\n",
    "print(val_audio.shape)\n",
    "print(test_audio.shape)\n",
    "\n",
    "print(\"\\n\", val_label.shape)\n",
    "print(test_label.shape)"
   ]
  },
  {
   "cell_type": "code",
   "execution_count": 103,
   "id": "356cdf21",
   "metadata": {},
   "outputs": [],
   "source": [
    "np.save(os.path.join(cwd, 'train_audio'), train_audio)\n",
    "np.save(os.path.join(cwd, 'val_audio'), val_audio)\n",
    "np.save(os.path.join(cwd, 'test_audio'), test_audio)\n",
    "\n",
    "np.save(os.path.join(cwd, 'val_label'), val_label)\n",
    "np.save(os.path.join(cwd, 'test_label'), test_label)"
   ]
  }
 ],
 "metadata": {
  "kernelspec": {
   "display_name": "Python 3 (ipykernel)",
   "language": "python",
   "name": "python3"
  },
  "language_info": {
   "codemirror_mode": {
    "name": "ipython",
    "version": 3
   },
   "file_extension": ".py",
   "mimetype": "text/x-python",
   "name": "python",
   "nbconvert_exporter": "python",
   "pygments_lexer": "ipython3",
   "version": "3.9.7"
  }
 },
 "nbformat": 4,
 "nbformat_minor": 5
}
