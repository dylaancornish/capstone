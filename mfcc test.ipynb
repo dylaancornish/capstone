{
 "cells": [
  {
   "cell_type": "code",
   "execution_count": 15,
   "id": "06bc9dfc",
   "metadata": {},
   "outputs": [],
   "source": [
    "#import libraries\n",
    "import torch\n",
    "import numpy as np\n",
    "import os\n",
    "import torchaudio\n",
    "import torchaudio.functional as F\n",
    "import torchaudio.transforms as T\n",
    "import librosa"
   ]
  },
  {
   "cell_type": "code",
   "execution_count": 49,
   "id": "4ababce7",
   "metadata": {},
   "outputs": [
    {
     "data": {
      "text/plain": [
       "16000"
      ]
     },
     "execution_count": 49,
     "metadata": {},
     "output_type": "execute_result"
    }
   ],
   "source": [
    "#load test file, y is audio time series, sr is sampling rate\n",
    "y, sr = librosa.load('C:/Users/dylaa/Documents/UChicago/Capstone/speech_commands_v0.02/backward/0a2b400e_nohash_0.wav',\n",
    "                     sr = 16000)\n",
    "sr"
   ]
  },
  {
   "cell_type": "code",
   "execution_count": 50,
   "id": "e9b351f1",
   "metadata": {},
   "outputs": [],
   "source": [
    "#extract mfcc features for test file\n",
    "mfcc = librosa.feature.mfcc(y=y, sr=sr)"
   ]
  },
  {
   "cell_type": "code",
   "execution_count": 51,
   "id": "8c5258a9",
   "metadata": {},
   "outputs": [
    {
     "data": {
      "text/plain": [
       "(20, 32)"
      ]
     },
     "execution_count": 51,
     "metadata": {},
     "output_type": "execute_result"
    }
   ],
   "source": [
    "mfcc.shape"
   ]
  },
  {
   "cell_type": "code",
   "execution_count": 28,
   "id": "6a7ad356",
   "metadata": {},
   "outputs": [],
   "source": [
    "y2, sr2 = librosa.load(\"C:/Users/dylaa/Documents/UChicago/Capstone/speech_commands_v0.02/dog/00f0204f_nohash_1.wav\")"
   ]
  },
  {
   "cell_type": "code",
   "execution_count": 29,
   "id": "1702b26e",
   "metadata": {},
   "outputs": [],
   "source": [
    "mfcc2 = librosa.feature.mfcc(y=y2, sr=sr2)"
   ]
  },
  {
   "cell_type": "code",
   "execution_count": 31,
   "id": "e78f7cba",
   "metadata": {},
   "outputs": [
    {
     "data": {
      "text/plain": [
       "(20, 44)"
      ]
     },
     "execution_count": 31,
     "metadata": {},
     "output_type": "execute_result"
    }
   ],
   "source": [
    "mfcc2.shape"
   ]
  },
  {
   "cell_type": "code",
   "execution_count": 23,
   "id": "14d9f00f",
   "metadata": {},
   "outputs": [
    {
     "data": {
      "text/plain": [
       "('C:/Users/dylaa/Documents/UChicago/Capstone/speech_commands_v0.02/',\n",
       " ['backward',\n",
       "  'bed',\n",
       "  'bird',\n",
       "  'cat',\n",
       "  'dog',\n",
       "  'down',\n",
       "  'eight',\n",
       "  'five',\n",
       "  'follow',\n",
       "  'forward',\n",
       "  'four',\n",
       "  'go',\n",
       "  'happy',\n",
       "  'house',\n",
       "  'learn',\n",
       "  'left',\n",
       "  'marvin',\n",
       "  'nine',\n",
       "  'no',\n",
       "  'off',\n",
       "  'on',\n",
       "  'one',\n",
       "  'right',\n",
       "  'seven',\n",
       "  'sheila',\n",
       "  'six',\n",
       "  'stop',\n",
       "  'three',\n",
       "  'tree',\n",
       "  'two',\n",
       "  'up',\n",
       "  'visual',\n",
       "  'wow',\n",
       "  'yes',\n",
       "  'zero',\n",
       "  '_background_noise_'],\n",
       " ['.DS_Store',\n",
       "  'LICENSE',\n",
       "  'README.md',\n",
       "  'testing_list.txt',\n",
       "  'validation_list.txt'])"
      ]
     },
     "execution_count": 23,
     "metadata": {},
     "output_type": "execute_result"
    }
   ],
   "source": [
    "list(os.walk('C:/Users/dylaa/Documents/UChicago/Capstone/speech_commands_v0.02/'))[0]"
   ]
  },
  {
   "cell_type": "code",
   "execution_count": 35,
   "id": "d12d4967",
   "metadata": {},
   "outputs": [],
   "source": [
    "word_list = ['backward',\n",
    "  'bed',\n",
    "  'bird',\n",
    "  'cat',\n",
    "  'dog',\n",
    "  'down',\n",
    "  'eight',\n",
    "  'five',\n",
    "  'follow',\n",
    "  'forward',\n",
    "  'four',\n",
    "  'go',\n",
    "  'happy',\n",
    "  'house',\n",
    "  'learn',\n",
    "  'left',\n",
    "  'marvin',\n",
    "  'nine',\n",
    "  'no',\n",
    "  'off',\n",
    "  'on',\n",
    "  'one',\n",
    "  'right',\n",
    "  'seven',\n",
    "  'sheila',\n",
    "  'six',\n",
    "  'stop',\n",
    "  'three',\n",
    "  'tree',\n",
    "  'two',\n",
    "  'up',\n",
    "  'visual',\n",
    "  'wow',\n",
    "  'yes',\n",
    "  'zero']"
   ]
  },
  {
   "cell_type": "code",
   "execution_count": 42,
   "id": "fb6522a2",
   "metadata": {},
   "outputs": [
    {
     "data": {
      "text/plain": [
       "1664"
      ]
     },
     "execution_count": 42,
     "metadata": {},
     "output_type": "execute_result"
    }
   ],
   "source": [
    "#how many files are there in one of the directories?\n",
    "len(os.listdir('C:/Users/dylaa/Documents/UChicago/Capstone/speech_commands_v0.02/backward'))"
   ]
  },
  {
   "cell_type": "code",
   "execution_count": 44,
   "id": "df2bdf81",
   "metadata": {},
   "outputs": [
    {
     "name": "stdout",
     "output_type": "stream",
     "text": [
      "105829\n"
     ]
    }
   ],
   "source": [
    "#how many total audio files are there?\n",
    "count = 0\n",
    "for i in word_list:\n",
    "    for j in os.listdir('C:/Users/dylaa/Documents/UChicago/Capstone/speech_commands_v0.02/' + i):\n",
    "        count += 1\n",
    "print(count)"
   ]
  },
  {
   "cell_type": "code",
   "execution_count": 47,
   "id": "191fa34f",
   "metadata": {},
   "outputs": [
    {
     "data": {
      "text/plain": [
       "93129520"
      ]
     },
     "execution_count": 47,
     "metadata": {},
     "output_type": "execute_result"
    }
   ],
   "source": [
    "#total number of values in all the mfccs for the GSC dataset:\n",
    "44*20*105829"
   ]
  }
 ],
 "metadata": {
  "kernelspec": {
   "display_name": "Python 3 (ipykernel)",
   "language": "python",
   "name": "python3"
  },
  "language_info": {
   "codemirror_mode": {
    "name": "ipython",
    "version": 3
   },
   "file_extension": ".py",
   "mimetype": "text/x-python",
   "name": "python",
   "nbconvert_exporter": "python",
   "pygments_lexer": "ipython3",
   "version": "3.9.7"
  }
 },
 "nbformat": 4,
 "nbformat_minor": 5
}
