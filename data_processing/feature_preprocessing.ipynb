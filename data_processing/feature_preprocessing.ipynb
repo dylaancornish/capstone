{
 "cells": [
  {
   "cell_type": "code",
   "execution_count": 1,
   "id": "8f32233b",
   "metadata": {},
   "outputs": [],
   "source": [
    "import numpy as np\n",
    "import pandas as pd\n",
    "import os"
   ]
  },
  {
   "cell_type": "code",
   "execution_count": 2,
   "id": "83efb7a9",
   "metadata": {},
   "outputs": [],
   "source": [
    "#set paths\n",
    "mfcc_path = 'mfccs'\n",
    "train_path = os.path.join(mfcc_path, 'training')\n",
    "val_path = os.path.join(mfcc_path, 'validation')\n",
    "test_path = os.path.join(mfcc_path, 'test')\n",
    "\n",
    "#set constants\n",
    "n_mfcc = 20\n",
    "n_dim = 32\n",
    "reject_label = 'UNKNOWN'"
   ]
  },
  {
   "cell_type": "code",
   "execution_count": 3,
   "id": "5be0a1c3",
   "metadata": {},
   "outputs": [],
   "source": [
    "all_words = list(os.listdir(train_path))"
   ]
  },
  {
   "cell_type": "code",
   "execution_count": 4,
   "id": "9afa8427",
   "metadata": {},
   "outputs": [],
   "source": [
    "#20 keywords to recognize\n",
    "keywords = ['up','down','left', 'right', 'stop', 'go', 'yes', 'no', 'on', 'off', 'one', 'two', \n",
    "             'three', 'four', 'five', 'six', 'seven', 'eight', 'nine', 'zero']\n",
    "\n",
    "#all other words will be rejection class\n",
    "rejection_words = [i for i in all_words if i not in keywords]"
   ]
  },
  {
   "cell_type": "code",
   "execution_count": 5,
   "id": "065bb682",
   "metadata": {},
   "outputs": [],
   "source": [
    "#initialize arrays for the features, we will have to drop the first entries later\n",
    "X_train = np.zeros(shape = (n_mfcc, n_dim))\n",
    "X_val = np.zeros(shape = (n_mfcc, n_dim))\n",
    "X_test = np.zeros(shape = (n_mfcc, n_dim))\n",
    "\n",
    "y_train = np.zeros(shape = (1))\n",
    "y_val = np.zeros(shape = (1))\n",
    "y_test = np.zeros(shape = (1))"
   ]
  },
  {
   "cell_type": "code",
   "execution_count": 6,
   "id": "753ca2f6",
   "metadata": {},
   "outputs": [],
   "source": [
    "#flag for whether a word is a reject word or not\n",
    "reject = False\n",
    "\n",
    "#loop through train, validation, and test data\n",
    "for i in [train_path, val_path, test_path]:\n",
    "    \n",
    "    #loop through all the word directories\n",
    "    for j in os.listdir(train_path):\n",
    "        data_path = os.path.join(i, j)\n",
    "        \n",
    "        #set reject flag to true if we're in the directory of a rejection word\n",
    "        if (j in rejection_words):\n",
    "            reject = True\n",
    "            \n",
    "        #load mfcc for each file in directory\n",
    "        for k in os.listdir(data_path):\n",
    "            file = os.path.join(data_path, k)\n",
    "            mfcc = np.load(file)\n",
    "            \n",
    "            #append mfcc to train, validation, or test\n",
    "            if (i == train_path):\n",
    "                X_train = np.append(X_train, mfcc, axis = 0)\n",
    "                \n",
    "                #add rejection label or the word to the y arrays\n",
    "                if reject:\n",
    "                    y_train = np.append(y_train, reject_label)\n",
    "                else:\n",
    "                    y_train = np.append(y_train, j)\n",
    "                    \n",
    "            elif (i == test_path):\n",
    "                X_test = np.append(X_test, mfcc, axis = 0)\n",
    "                \n",
    "                if reject:\n",
    "                    y_test = np.append(y_test, reject_label)\n",
    "                else:\n",
    "                    y_test = np.append(y_test, j)\n",
    "            elif (i == val_path):\n",
    "                X_val = np.append(X_val, mfcc, axis = 0)\n",
    "                \n",
    "                if reject:\n",
    "                    y_val = np.append(y_val, reject_label)\n",
    "                else:\n",
    "                    y_val = np.append(y_val, j)\n",
    "                    \n",
    "        #reset reject to false as we enter a new directory\n",
    "        reject = False\n",
    "\n",
    "#drop the first n_mfcc entries because they're zeros from initialization\n",
    "X_train = X_train[n_mfcc:]                \n",
    "X_val = X_val[n_mfcc:]\n",
    "X_test = X_test[n_mfcc:]\n",
    "\n",
    "#drop the first entry because they're also zero from initialization\n",
    "y_train = y_train[1:]\n",
    "y_val = y_val[1:]\n",
    "y_test = y_test[1:]\n",
    "\n",
    "#get length of arrays in terms of mfcc size\n",
    "train_length = int(len(X_train) / n_mfcc)\n",
    "val_length = int(len(X_val) / n_mfcc)\n",
    "test_length = int(len(X_test) / n_mfcc)\n",
    "\n",
    "#reshape arrays to be (n, 20, 32) where n is number of samples in train, validation, or test\n",
    "X_train = np.reshape(X_train, newshape = (train_length, n_mfcc, n_dim))\n",
    "X_val = np.reshape(X_val, newshape = (val_length, n_mfcc, n_dim))\n",
    "X_test = np.reshape(X_test, newshape = (test_length, n_mfcc, n_dim))"
   ]
  },
  {
   "cell_type": "code",
   "execution_count": 20,
   "id": "32f14cc1",
   "metadata": {},
   "outputs": [
    {
     "name": "stdout",
     "output_type": "stream",
     "text": [
      "(84843, 20, 32)\n",
      "(84843,)\n",
      "(9981, 20, 32)\n",
      "(9981,)\n",
      "(11005, 20, 32)\n",
      "(11005,)\n"
     ]
    }
   ],
   "source": [
    "print(X_train.shape)\n",
    "print(y_train.shape)\n",
    "\n",
    "print(X_val.shape)\n",
    "print(y_val.shape)\n",
    "\n",
    "print(X_test.shape)\n",
    "print(y_test.shape)"
   ]
  },
  {
   "cell_type": "markdown",
   "id": "6bce8afd",
   "metadata": {},
   "source": [
    "These shapes correspond to the number of MFCCs generated previously and are ready to be put into a neural network."
   ]
  },
  {
   "cell_type": "code",
   "execution_count": 29,
   "id": "10bf0dee",
   "metadata": {},
   "outputs": [],
   "source": [
    "#save files\n",
    "cwd = os.getcwd()\n",
    "np.save(os.path.join(cwd, 'X_train'), X_train)\n",
    "np.save(os.path.join(cwd, 'y_train'), y_train)\n",
    "np.save(os.path.join(cwd, 'X_val'), X_val)\n",
    "np.save(os.path.join(cwd, 'y_val'), y_val)\n",
    "np.save(os.path.join(cwd, 'X_test'), X_test)\n",
    "np.save(os.path.join(cwd, 'y_test'), y_test)"
   ]
  }
 ],
 "metadata": {
  "kernelspec": {
   "display_name": "Python 3 (ipykernel)",
   "language": "python",
   "name": "python3"
  },
  "language_info": {
   "codemirror_mode": {
    "name": "ipython",
    "version": 3
   },
   "file_extension": ".py",
   "mimetype": "text/x-python",
   "name": "python",
   "nbconvert_exporter": "python",
   "pygments_lexer": "ipython3",
   "version": "3.9.7"
  }
 },
 "nbformat": 4,
 "nbformat_minor": 5
}
