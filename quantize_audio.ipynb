{
 "cells": [
  {
   "cell_type": "markdown",
   "id": "8d7add39",
   "metadata": {},
   "source": [
    "Code assumes that data is in same directory as capstone_repo directory:  \n",
    "```\n",
    "capstone_repo  \n",
    "│   README.md  \n",
    "│   gsc_mfcc_extraction.ipynb    \n",
    "│  \n",
    "speech_commands_v0.02  \n",
    "└───backward  \n",
    "│   │   file01.wav  \n",
    "│   │   file02.wav (etc)  \n",
    "└───bed  \n",
    "│   |..etc  \n",
    "```"
   ]
  },
  {
   "cell_type": "code",
   "execution_count": 2,
   "id": "0586c8d8",
   "metadata": {},
   "outputs": [
    {
     "name": "stdout",
     "output_type": "stream",
     "text": [
      "Collecting torch\n",
      "  Downloading torch-1.11.0-cp39-none-macosx_10_9_x86_64.whl (129.9 MB)\n",
      "\u001b[K     |████████████████████████████████| 129.9 MB 22.8 MB/s eta 0:00:01\n",
      "\u001b[?25hRequirement already satisfied: typing-extensions in /Users/JosephTomal_1/opt/anaconda3/lib/python3.9/site-packages (from torch) (4.1.1)\n",
      "Installing collected packages: torch\n",
      "Successfully installed torch-1.11.0\n"
     ]
    }
   ],
   "source": [
    "#! pip install torch"
   ]
  },
  {
   "cell_type": "code",
   "execution_count": 4,
   "id": "d3e83d13",
   "metadata": {},
   "outputs": [
    {
     "name": "stdout",
     "output_type": "stream",
     "text": [
      "Collecting torchaudio\n",
      "  Downloading torchaudio-0.11.0-cp39-cp39-macosx_10_15_x86_64.whl (2.4 MB)\n",
      "\u001b[K     |████████████████████████████████| 2.4 MB 3.3 MB/s eta 0:00:01\n",
      "\u001b[?25hRequirement already satisfied: torch==1.11.0 in /Users/JosephTomal_1/opt/anaconda3/lib/python3.9/site-packages (from torchaudio) (1.11.0)\n",
      "Requirement already satisfied: typing-extensions in /Users/JosephTomal_1/opt/anaconda3/lib/python3.9/site-packages (from torch==1.11.0->torchaudio) (4.1.1)\n",
      "Installing collected packages: torchaudio\n",
      "Successfully installed torchaudio-0.11.0\n"
     ]
    }
   ],
   "source": [
    "#! pip install torchaudio"
   ]
  },
  {
   "cell_type": "code",
   "execution_count": 6,
   "id": "2331b345",
   "metadata": {},
   "outputs": [],
   "source": [
    "#import libraries\n",
    "import torch\n",
    "import numpy as np\n",
    "import os\n",
    "import IPython.display as ipd\n",
    "import torchaudio\n",
    "import torchaudio.functional as F\n",
    "import torchaudio.transforms as T\n",
    "import time\n",
    "import pandas as pd"
   ]
  },
  {
   "cell_type": "code",
   "execution_count": 34,
   "id": "ee295c5e",
   "metadata": {},
   "outputs": [],
   "source": [
    "data_path = '/Users/Shared/back up fix/speech_commands_v0.02/'"
   ]
  },
  {
   "cell_type": "code",
   "execution_count": 8,
   "id": "b8f6d77f",
   "metadata": {},
   "outputs": [
    {
     "data": {
      "text/plain": [
       "('/Users/Shared/back up fix/speech_commands_v0.02',\n",
       " ['right',\n",
       "  'eight',\n",
       "  'cat',\n",
       "  'tree',\n",
       "  'backward',\n",
       "  'learn',\n",
       "  'bed',\n",
       "  'happy',\n",
       "  'go',\n",
       "  'dog',\n",
       "  'no',\n",
       "  'wow',\n",
       "  'follow',\n",
       "  'nine',\n",
       "  'left',\n",
       "  'stop',\n",
       "  'three',\n",
       "  '_background_noise_',\n",
       "  'sheila',\n",
       "  'one',\n",
       "  'bird',\n",
       "  'zero',\n",
       "  'seven',\n",
       "  'up',\n",
       "  'visual',\n",
       "  'marvin',\n",
       "  'two',\n",
       "  'house',\n",
       "  'down',\n",
       "  'six',\n",
       "  'yes',\n",
       "  'on',\n",
       "  'five',\n",
       "  'forward',\n",
       "  'off',\n",
       "  'four'],\n",
       " ['.DS_Store',\n",
       "  'validation_list.txt',\n",
       "  'LICENSE',\n",
       "  'README.md',\n",
       "  'testing_list.txt'])"
      ]
     },
     "execution_count": 8,
     "metadata": {},
     "output_type": "execute_result"
    }
   ],
   "source": [
    "# get list of word directories in speech commands dataset\n",
    "list(os.walk(data_path))[0]"
   ]
  },
  {
   "cell_type": "code",
   "execution_count": 9,
   "id": "5286dc30",
   "metadata": {},
   "outputs": [],
   "source": [
    "all_words = ['backward',\n",
    "  'bed',\n",
    "  'bird',\n",
    "  'cat',\n",
    "  'dog',\n",
    "  'down',\n",
    "  'eight',\n",
    "  'five',\n",
    "  'follow',\n",
    "  'forward',\n",
    "  'four',\n",
    "  'go',\n",
    "  'happy',\n",
    "  'house',\n",
    "  'learn',\n",
    "  'left',\n",
    "  'marvin',\n",
    "  'nine',\n",
    "  'no',\n",
    "  'off',\n",
    "  'on',\n",
    "  'one',\n",
    "  'right',\n",
    "  'seven',\n",
    "  'sheila',\n",
    "  'six',\n",
    "  'stop',\n",
    "  'three',\n",
    "  'tree',\n",
    "  'two',\n",
    "  'up',\n",
    "  'visual',\n",
    "  'wow',\n",
    "  'yes',\n",
    "  'zero']"
   ]
  },
  {
   "cell_type": "code",
   "execution_count": 10,
   "id": "8f88ba77",
   "metadata": {},
   "outputs": [
    {
     "data": {
      "text/plain": [
       "20"
      ]
     },
     "execution_count": 10,
     "metadata": {},
     "output_type": "execute_result"
    }
   ],
   "source": [
    "#only these 20 words will act as keywords\n",
    "word_list = ['up','down','left', 'right', 'stop', 'go', 'yes', 'no', 'on', 'off', 'one', 'two', \n",
    "             'three', 'four', 'five', 'six', 'seven', 'eight', 'nine', 'zero']\n",
    "len(word_list)"
   ]
  },
  {
   "cell_type": "code",
   "execution_count": 11,
   "id": "64c3178d",
   "metadata": {},
   "outputs": [
    {
     "name": "stdout",
     "output_type": "stream",
     "text": [
      "['backward', 'bed', 'bird', 'cat', 'dog', 'follow', 'forward', 'happy', 'house', 'learn', 'marvin', 'sheila', 'tree', 'visual', 'wow']\n"
     ]
    },
    {
     "data": {
      "text/plain": [
       "15"
      ]
     },
     "execution_count": 11,
     "metadata": {},
     "output_type": "execute_result"
    }
   ],
   "source": [
    "#the other 15 words will be combined into one class of rejection words\n",
    "rejection_words = [i for i in all_words if i not in word_list]\n",
    "print(rejection_words)\n",
    "len(rejection_words)"
   ]
  },
  {
   "cell_type": "code",
   "execution_count": 12,
   "id": "6da10de8",
   "metadata": {},
   "outputs": [
    {
     "name": "stdout",
     "output_type": "stream",
     "text": [
      "Collecting librosa\n",
      "  Downloading librosa-0.9.1-py3-none-any.whl (213 kB)\n",
      "\u001b[K     |████████████████████████████████| 213 kB 4.1 MB/s eta 0:00:01\n",
      "\u001b[?25hCollecting audioread>=2.1.5\n",
      "  Downloading audioread-2.1.9.tar.gz (377 kB)\n",
      "\u001b[K     |████████████████████████████████| 377 kB 22.9 MB/s eta 0:00:01\n",
      "\u001b[?25hCollecting resampy>=0.2.2\n",
      "  Downloading resampy-0.2.2.tar.gz (323 kB)\n",
      "\u001b[K     |████████████████████████████████| 323 kB 46.1 MB/s eta 0:00:01\n",
      "\u001b[?25hRequirement already satisfied: numba>=0.45.1 in /Users/JosephTomal_1/opt/anaconda3/lib/python3.9/site-packages (from librosa) (0.55.1)\n",
      "Requirement already satisfied: scipy>=1.2.0 in /Users/JosephTomal_1/opt/anaconda3/lib/python3.9/site-packages (from librosa) (1.7.3)\n",
      "Collecting pooch>=1.0\n",
      "  Downloading pooch-1.6.0-py3-none-any.whl (56 kB)\n",
      "\u001b[K     |████████████████████████████████| 56 kB 9.9 MB/s  eta 0:00:01\n",
      "\u001b[?25hRequirement already satisfied: joblib>=0.14 in /Users/JosephTomal_1/opt/anaconda3/lib/python3.9/site-packages (from librosa) (1.1.0)\n",
      "Collecting soundfile>=0.10.2\n",
      "  Downloading SoundFile-0.10.3.post1-py2.py3.cp26.cp27.cp32.cp33.cp34.cp35.cp36.pp27.pp32.pp33-none-macosx_10_5_x86_64.macosx_10_6_intel.macosx_10_9_intel.macosx_10_9_x86_64.whl (613 kB)\n",
      "\u001b[K     |████████████████████████████████| 613 kB 141.2 MB/s eta 0:00:01\n",
      "\u001b[?25hRequirement already satisfied: decorator>=4.0.10 in /Users/JosephTomal_1/opt/anaconda3/lib/python3.9/site-packages (from librosa) (5.1.1)\n",
      "Requirement already satisfied: packaging>=20.0 in /Users/JosephTomal_1/opt/anaconda3/lib/python3.9/site-packages (from librosa) (21.3)\n",
      "Requirement already satisfied: scikit-learn>=0.19.1 in /Users/JosephTomal_1/opt/anaconda3/lib/python3.9/site-packages (from librosa) (1.0.2)\n",
      "Requirement already satisfied: numpy>=1.17.0 in /Users/JosephTomal_1/opt/anaconda3/lib/python3.9/site-packages (from librosa) (1.21.5)\n",
      "Requirement already satisfied: llvmlite<0.39,>=0.38.0rc1 in /Users/JosephTomal_1/opt/anaconda3/lib/python3.9/site-packages (from numba>=0.45.1->librosa) (0.38.0)\n",
      "Requirement already satisfied: setuptools in /Users/JosephTomal_1/opt/anaconda3/lib/python3.9/site-packages (from numba>=0.45.1->librosa) (61.2.0)\n",
      "Requirement already satisfied: pyparsing!=3.0.5,>=2.0.2 in /Users/JosephTomal_1/opt/anaconda3/lib/python3.9/site-packages (from packaging>=20.0->librosa) (3.0.4)\n",
      "Requirement already satisfied: requests>=2.19.0 in /Users/JosephTomal_1/opt/anaconda3/lib/python3.9/site-packages (from pooch>=1.0->librosa) (2.27.1)\n",
      "Requirement already satisfied: appdirs>=1.3.0 in /Users/JosephTomal_1/opt/anaconda3/lib/python3.9/site-packages (from pooch>=1.0->librosa) (1.4.4)\n",
      "Requirement already satisfied: certifi>=2017.4.17 in /Users/JosephTomal_1/opt/anaconda3/lib/python3.9/site-packages (from requests>=2.19.0->pooch>=1.0->librosa) (2021.10.8)\n",
      "Requirement already satisfied: idna<4,>=2.5 in /Users/JosephTomal_1/opt/anaconda3/lib/python3.9/site-packages (from requests>=2.19.0->pooch>=1.0->librosa) (3.3)\n",
      "Requirement already satisfied: urllib3<1.27,>=1.21.1 in /Users/JosephTomal_1/opt/anaconda3/lib/python3.9/site-packages (from requests>=2.19.0->pooch>=1.0->librosa) (1.26.9)\n",
      "Requirement already satisfied: charset-normalizer~=2.0.0 in /Users/JosephTomal_1/opt/anaconda3/lib/python3.9/site-packages (from requests>=2.19.0->pooch>=1.0->librosa) (2.0.4)\n",
      "Requirement already satisfied: six>=1.3 in /Users/JosephTomal_1/opt/anaconda3/lib/python3.9/site-packages (from resampy>=0.2.2->librosa) (1.16.0)\n",
      "Requirement already satisfied: threadpoolctl>=2.0.0 in /Users/JosephTomal_1/opt/anaconda3/lib/python3.9/site-packages (from scikit-learn>=0.19.1->librosa) (2.2.0)\n",
      "Requirement already satisfied: cffi>=1.0 in /Users/JosephTomal_1/opt/anaconda3/lib/python3.9/site-packages (from soundfile>=0.10.2->librosa) (1.15.0)\n",
      "Requirement already satisfied: pycparser in /Users/JosephTomal_1/opt/anaconda3/lib/python3.9/site-packages (from cffi>=1.0->soundfile>=0.10.2->librosa) (2.21)\n",
      "Building wheels for collected packages: audioread, resampy\n",
      "  Building wheel for audioread (setup.py) ... \u001b[?25ldone\n",
      "\u001b[?25h  Created wheel for audioread: filename=audioread-2.1.9-py3-none-any.whl size=23153 sha256=7c00f110a1cf6128f4b2ea161087c0aa98df2940b31ce9442b532f8ffc2c552f\n",
      "  Stored in directory: /Users/JosephTomal_1/Library/Caches/pip/wheels/a2/a3/bd/ec1568ce7515115a11ab686d509ad302124c782af065de47ee\n",
      "  Building wheel for resampy (setup.py) ... \u001b[?25ldone\n",
      "\u001b[?25h  Created wheel for resampy: filename=resampy-0.2.2-py3-none-any.whl size=320732 sha256=df51d709330238071fc39c57d8a25db49202e582f267be5c913d32e15d508bc1\n",
      "  Stored in directory: /Users/JosephTomal_1/Library/Caches/pip/wheels/86/2c/7d/46a32a246b0e5939cea2c5ec1492164073e0c5d16d666ae2cd\n",
      "Successfully built audioread resampy\n",
      "Installing collected packages: soundfile, resampy, pooch, audioread, librosa\n",
      "Successfully installed audioread-2.1.9 librosa-0.9.1 pooch-1.6.0 resampy-0.2.2 soundfile-0.10.3.post1\n"
     ]
    }
   ],
   "source": [
    "#! pip install librosa"
   ]
  },
  {
   "cell_type": "code",
   "execution_count": 13,
   "id": "ecc877c6",
   "metadata": {},
   "outputs": [],
   "source": [
    "import librosa"
   ]
  },
  {
   "cell_type": "code",
   "execution_count": 14,
   "id": "7e64b1d2",
   "metadata": {},
   "outputs": [],
   "source": [
    "#test to see if one audio file will work correctly\n",
    "y, sr = librosa.load('/Users/Shared/back up fix/speech_commands_v0.02/bird/0a7c2a8d_nohash_0.wav', sr = 16000)"
   ]
  },
  {
   "cell_type": "code",
   "execution_count": 18,
   "id": "93331a8b",
   "metadata": {},
   "outputs": [],
   "source": [
    "#need a tensor as input not numpy array of time series audio\n",
    "y = torch.from_numpy(y)"
   ]
  },
  {
   "cell_type": "code",
   "execution_count": 21,
   "id": "78f20675",
   "metadata": {},
   "outputs": [],
   "source": [
    "def quantize_data(data, num_bits=8):\n",
    "              step_size = 2.0/2**num_bits\n",
    "              max_val = 2**num_bits -1\n",
    "              q_data = torch.round(data / step_size)\n",
    "              q_data = torch.clamp(q_data, 0, max_val)\n",
    "              q_data /= 256.\n",
    "              q_data = q_data.sub(0.5).mul(256.).round().clamp(min=-128, max=127).div(128.)\n",
    "              return q_data"
   ]
  },
  {
   "cell_type": "code",
   "execution_count": 44,
   "id": "5d6d5327",
   "metadata": {},
   "outputs": [
    {
     "name": "stdout",
     "output_type": "stream",
     "text": [
      "52.561039686203\n"
     ]
    }
   ],
   "source": [
    "#loop through all files, calculate MFCCs, save them to the appropriate directory\n",
    "start = time.time()\n",
    "\n",
    "for i in all_words:\n",
    "    #move to the directory for the ith word\n",
    "    working_path = data_path + \"/\" + i\n",
    "    \n",
    "    #loop through each file in the word's directory\n",
    "    for j in os.listdir(working_path):\n",
    "        #define paths we'll need\n",
    "        word_path = i + '/' + j\n",
    "        file_path = data_path + word_path\n",
    "        \n",
    "        #load audio file, GSC is sampled at 16000Hz\n",
    "        y, sr = librosa.load(file_path, sr = 16000)\n",
    "        \n",
    "        # quantize data\n",
    "        y = torch.from_numpy(y)\n",
    "        \n",
    "        quant = quantize_data(y, num_bits=8)\n",
    "        \n",
    "        #define save location directory\n",
    "        #word_dir = i + '_quant'\n",
    "        \n",
    "        #saving file \n",
    "        #torch.save(y, 'Users/Shared/back up fix/quantized/%s.npy' % i)\n",
    "\n",
    "end = time.time()\n",
    "print(end - start)"
   ]
  },
  {
   "cell_type": "code",
   "execution_count": 45,
   "id": "a0746368",
   "metadata": {},
   "outputs": [
    {
     "data": {
      "text/plain": [
       "tensor([-3.0518e-05,  6.1035e-05, -3.0518e-05,  ..., -3.0518e-05,\n",
       "        -3.0518e-05, -6.1035e-05])"
      ]
     },
     "execution_count": 45,
     "metadata": {},
     "output_type": "execute_result"
    }
   ],
   "source": [
    "y"
   ]
  }
 ],
 "metadata": {
  "kernelspec": {
   "display_name": "Python 3",
   "language": "python",
   "name": "python3"
  },
  "language_info": {
   "codemirror_mode": {
    "name": "ipython",
    "version": 3
   },
   "file_extension": ".py",
   "mimetype": "text/x-python",
   "name": "python",
   "nbconvert_exporter": "python",
   "pygments_lexer": "ipython3",
   "version": "3.9.12"
  }
 },
 "nbformat": 4,
 "nbformat_minor": 5
}
